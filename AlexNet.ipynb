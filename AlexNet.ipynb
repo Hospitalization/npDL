{
 "cells": [
  {
   "cell_type": "code",
   "execution_count": 1,
   "metadata": {},
   "outputs": [],
   "source": [
    "import numpy as np\n",
    "from network import *\n",
    "\n",
    "import pickle"
   ]
  },
  {
   "cell_type": "markdown",
   "metadata": {},
   "source": [
    "# Local Response Normalization\n",
    "\\begin{equation*}\n",
    "{ b }_{ x,y }^{ i }={ a }_{ x,y }^{ i }/{ \\left( k+\\alpha \\sum _{ j=max(0,i-n/2) }^{ min(N-1,i+n/2) }{ { ({ a }_{ x,y }^{ j }) }^{ 2 } }  \\right)  }^{ \\beta  }\n",
    "\\end{equation*}\n",
    "k = 2, n = 5, alpha = 10^-4, beta = 0.75\n",
    "\n",
    "conv 1, 2의 ReLU한 결과에 적용"
   ]
  },
  {
   "cell_type": "code",
   "execution_count": 2,
   "metadata": {},
   "outputs": [],
   "source": [
    "class LRN:\n",
    "    def __init__(self):\n",
    "        pass\n",
    "    \n",
    "    def forward(self, x):\n",
    "        pass\n",
    "    \n",
    "    def backward(self, dout):\n",
    "        pass\n",
    "    "
   ]
  },
  {
   "cell_type": "markdown",
   "metadata": {},
   "source": [
    "# Data Augmentation\n",
    "256x256 crop random 224x224 5개<br/>\n",
    "좌우 반전하여 10개 생성<br/>\n",
    "\n",
    "RGB pixel에 PCA를 하고, Gaussian dist(0, 0.1)을 곱하고 원래 픽셀에 더함"
   ]
  },
  {
   "cell_type": "code",
   "execution_count": 3,
   "metadata": {},
   "outputs": [],
   "source": [
    "%matplotlib inline\n",
    "import os\n",
    "import cv2\n",
    "import random\n",
    "import matplotlib.pyplot as plt\n",
    "from matplotlib.mlab import PCA\n",
    "\n",
    "# path = \"/home/heim/mount_disk/workspace/datasets/101_ObjectCategories/\"\n",
    "path = \"/home/heim/mount_disk/workspace/datasets/ilsvrc12/train/\"\n",
    "\n",
    "# folders_train = os.listdir(path+\"train/\")\n",
    "# path_data = []\n",
    "# for i in range(folders_train.__len__()):\n",
    "#     data_aclass = os.listdir(path+\"train/\"+folders_train[i])\n",
    "#     path_data.append(data_aclass)\n",
    "\n",
    "def gether_data(batch_size):\n",
    "    x_batch = []\n",
    "    y_batch = []\n",
    "    \n",
    "    for i in range(batch_size):\n",
    "        y = np.random.randint(0,1000)\n",
    "        data_path = path+str(os.listdir(path)[y])+\"/\"\n",
    "        data_path +=random.choice(os.listdir(data_path))\n",
    "        im = cv2.imread(data_path).astype(float)\n",
    "        # im = cv2.cvtColor(im, cv2.COLOR_BGR2RGB)\n",
    "        t = int(im.shape[0]>im.shape[1])\n",
    "        diff = im.shape[1]-im.shape[0]\n",
    "        im = im[-t*int(diff/2):im.shape[0]+t*int(diff/2),(1-t)*int(diff/2):im.shape[1]-(1-t)*int(diff/2),:]\n",
    "        im = cv2.resize(im, (256,256))\n",
    "        \n",
    "        pos_x, pos_y = [[0,0],[2,2],[1,1],[0,2],[2,0]][np.random.randint(0,5)]\n",
    "        \n",
    "        im = im[16*pos_x:256-16*(2-pos_x),16*pos_y:256-16*(2-pos_y),:]\n",
    "        \n",
    "        if np.random.randint(0,2):\n",
    "            im = cv2.flip(im, 1)\n",
    "        # plt.imshow(im)\n",
    "        # plt.show()\n",
    "        \n",
    "        im =(im-127)/255\n",
    "        x_batch.append(im)\n",
    "        y_batch.append(y)\n",
    "    \n",
    "    return np.array(x_batch).transpose(0,3,1,2), one_hot_encoder(np.array(y_batch),1000)"
   ]
  },
  {
   "cell_type": "code",
   "execution_count": 4,
   "metadata": {},
   "outputs": [
    {
     "data": {
      "text/plain": [
       "(2, 3, 224, 224)"
      ]
     },
     "execution_count": 4,
     "metadata": {},
     "output_type": "execute_result"
    }
   ],
   "source": [
    "gether_data(2)[0].shape"
   ]
  },
  {
   "cell_type": "code",
   "execution_count": 5,
   "metadata": {},
   "outputs": [
    {
     "name": "stdout",
     "output_type": "stream",
     "text": [
      "(2, 3, 224, 224) (2, 1000)\n"
     ]
    }
   ],
   "source": [
    "x_batch, y_batch = gether_data(2)\n",
    "print(x_batch.shape,y_batch.shape)"
   ]
  },
  {
   "cell_type": "markdown",
   "metadata": {},
   "source": [
    "# Network structure\n",
    "Total 8 weight layers\n",
    "\n",
    "**5 Convolution layers**\n",
    "\n",
    "        Conv 1 : 11x11x3, 96 kernels, stride=4, pad=0? 2\n",
    "            ReLU\n",
    "            LRN\n",
    "            MaxPool 1 : 3x3, stride=2\n",
    "        Conv 2 : 5x5x96, 256 kernels, stride=1, pad=2\n",
    "            ReLU\n",
    "            LRN\n",
    "            MaxPool 2 : 3x3, stride=2\n",
    "        Conv 3 : 3x3x256, 384 kernels, stride=1, pad=1\n",
    "            ReLU\n",
    "        Conv 4 : 3x3x384, 384 kernels, stride=1, pad=1\n",
    "            ReLU\n",
    "        Conv 5 : 3x3x384, 256 kernels, stride=1, pad=1\n",
    "            ReLU\n",
    "            MaxPool 3 : 3x3, stride=2\n",
    "**3 Dense layers**\n",
    "\n",
    "        Dense 1:  4096\n",
    "            ReLU\n",
    "            Dropout : 50 %\n",
    "        Dense 2 : 4096\n",
    "            ReLU\n",
    "            Dropout : 50 %\n",
    "        Dense 3 : 1000\n",
    "    \n",
    "**1000-way softmax**\n",
    "\n",
    "![Alt text](http://csxcs366.eefocus.com/data/15-09/201042223040939/1442997038_30fbaec7.png)"
   ]
  },
  {
   "cell_type": "code",
   "execution_count": 6,
   "metadata": {},
   "outputs": [
    {
     "name": "stdout",
     "output_type": "stream",
     "text": [
      "0 Convolution (1, 96, 55, 55)\n",
      "1 Relu (1, 96, 55, 55)\n",
      "2 Pooling (1, 96, 27, 27)\n",
      "3 Convolution (1, 256, 27, 27)\n",
      "4 Relu (1, 256, 27, 27)\n",
      "5 Pooling (1, 256, 13, 13)\n",
      "6 Convolution (1, 384, 13, 13)\n",
      "7 Relu (1, 384, 13, 13)\n",
      "8 Convolution (1, 384, 13, 13)\n",
      "9 Relu (1, 384, 13, 13)\n",
      "10 Convolution (1, 256, 13, 13)\n",
      "11 Relu (1, 256, 13, 13)\n",
      "12 Pooling (1, 256, 6, 6)\n",
      "13 Flatten (1, 9216)\n",
      "14 Affine (1, 4096)\n",
      "15 Relu (1, 4096)\n",
      "16 Dropout (1, 4096)\n",
      "17 Affine (1, 4096)\n",
      "18 Relu (1, 4096)\n",
      "19 Dropout (1, 4096)\n",
      "20 Affine (1, 1000)\n"
     ]
    }
   ],
   "source": [
    "net = Network()\n",
    "\n",
    "initializer =\"adam\"\n",
    "# Conv 1 : 11x11x3, 96 kernels, stride=4, pad=0\n",
    "net.add(Convolution([3,224,224],[11,11],96, stride=4, pad=2, initializer=initializer))\n",
    "net.add(Relu())\n",
    "net.add(Pooling([3,3], stride=2))\n",
    "\n",
    "# Conv 2 : 5x5x96, 256 kernels, stride=1, pad=2\n",
    "net.add(Convolution([96,27,27],[5,5],256, pad=2, initializer=initializer))\n",
    "net.add(Relu())\n",
    "net.add(Pooling([3,3], stride=2))\n",
    "\n",
    "# Conv 3 : 3x3x256, 384 kernels, stride=1, pad=1\n",
    "net.add(Convolution([256,13,13],[3,3],384, pad=1, initializer=initializer))\n",
    "net.add(Relu())\n",
    "\n",
    "# Conv 4 : 3x3x384, 384 kernels, stride=1, pad=1\n",
    "net.add(Convolution([384,13,13],[3,3],384, pad=1, initializer=initializer))\n",
    "net.add(Relu())\n",
    "\n",
    "# Conv 5 : 3x3x384, 256 kernels, stride=1, pad=1\n",
    "net.add(Convolution([384,13,13],[3,3],256, pad=1, initializer=initializer))\n",
    "net.add(Relu())\n",
    "net.add(Pooling([3,3], stride=2))\n",
    "\n",
    "\n",
    "net.add(Flatten())\n",
    "net.add(Affine([9216,4096], initializer=initializer))\n",
    "net.add(Relu())\n",
    "net.add(Dropout())\n",
    "net.add(Affine([4096,4096], initializer=initializer))\n",
    "net.add(Relu())\n",
    "net.add(Dropout())\n",
    "net.add(Affine([4096,1000], initializer=initializer))\n",
    "net.set_loss(SoftmaxWithLoss())\n",
    "\n",
    "i=0\n",
    "out = np.ones([1,3,224,224])\n",
    "for layer in net.layers:\n",
    "    out = layer.forward(out)\n",
    "    print(i , layer.__class__.__name__, out.shape)\n",
    "    i+=1"
   ]
  },
  {
   "cell_type": "markdown",
   "metadata": {},
   "source": [
    "# Details of Learning\n",
    "- mini-batch size : 128\n",
    "- momentum : 0.9, weight decay : 0.0005\n",
    "- 0-mean gaussian *0.01\n",
    "- dropout:0.5\n",
    "- learning rate : 0.01, validation error가 멈추면 1/10배\n",
    "- (7개 CNN 앙상블) 미정"
   ]
  },
  {
   "cell_type": "code",
   "execution_count": null,
   "metadata": {},
   "outputs": [],
   "source": [
    "batch_accuracy_track = []\n",
    "test_accuracy_track = []\n",
    "loss_track=[]"
   ]
  },
  {
   "cell_type": "code",
   "execution_count": null,
   "metadata": {},
   "outputs": [
    {
     "name": "stdout",
     "output_type": "stream",
     "text": [
      "== Loss 7.1321, Process : 0.0160% ===\r"
     ]
    }
   ],
   "source": [
    "import time\n",
    "train_size = 12000000\n",
    "batch_size = 128\n",
    "learning_rate=0.01\n",
    "iter_per_epoch = train_size/batch_size\n",
    "epochs = 10\n",
    "iter_step = int(iter_per_epoch)\n",
    "for epoch in range(epochs):\n",
    "    start_time = time.time()\n",
    "    for i in range(iter_step):\n",
    "        x_batch, y_batch = gether_data(batch_size)\n",
    "        loss = net.fit(x_batch, y_batch, learning_rate=learning_rate)\n",
    "        loss_track.append(loss)\n",
    "        if i%(np.max([iter_step/100000,1]))==0:\n",
    "            print(\"== Loss {0:0.4f}, Process : {1:0.4f}% ==\".format(loss, i/iter_step*100), end=\"\\r\")\n",
    "    batch_accuracy = net.accuracy(x_batch, y_batch)\n",
    "    x_test, y_test = gether_data(batch_size)\n",
    "    test_accuracy = net.accuracy(x_test, y_test)\n",
    "    batch_accuracy_track.append(batch_accuracy)\n",
    "    test_accuracy_track.append(test_accuracy)\n",
    "    print(\"== {0} Epoch, Loss {1:0.4f}, Batch Accuracy  {2:0.4f}, Test Accuracy : {3:0.3f} == ({4:0.2f} m)\".format(epoch+1, loss, batch_accuracy, test_accuracy, (time.time()-start_time)/60))"
   ]
  },
  {
   "cell_type": "code",
   "execution_count": 9,
   "metadata": {},
   "outputs": [
    {
     "data": {
      "text/plain": [
       "0.0"
      ]
     },
     "execution_count": 9,
     "metadata": {},
     "output_type": "execute_result"
    }
   ],
   "source": [
    "x_test, y_test = gether_data(200)\n",
    "net.accuracy(x_test,y_test,top=5)"
   ]
  },
  {
   "cell_type": "code",
   "execution_count": 19,
   "metadata": {},
   "outputs": [
    {
     "data": {
      "image/png": "[encoded data removed]",
      "text/plain": [
       "<matplotlib.figure.Figure at 0x7f0f46944198>"
      ]
     },
     "metadata": {},
     "output_type": "display_data"
    }
   ],
   "source": [
    "l_track = np.array(loss_track)\n",
    "x = np.arange(l_track.size)\n",
    "plt.plot(x, l_track, label=\"loss\")\n",
    "# plt.ylim([0,8])\n",
    "plt.show()"
   ]
  },
  {
   "cell_type": "code",
   "execution_count": 10,
   "metadata": {},
   "outputs": [
    {
     "data": {
      "image/png": "[encoded data removed]",
      "text/plain": [
       "<matplotlib.figure.Figure at 0x7f1cb0a1e358>"
      ]
     },
     "metadata": {},
     "output_type": "display_data"
    }
   ],
   "source": [
    "b_track = np.array(batch_accuracy_track)\n",
    "t_track = np.array(test_accuracy_track)\n",
    "x = np.arange(b_track.size)\n",
    "plt.plot(x, b_track, label=\"batch\")\n",
    "plt.plot(x, t_track, label=\"test\")\n",
    "# plt.ylim([0,1])\n",
    "plt.legend(loc=2)\n",
    "plt.show()"
   ]
  },
  {
   "cell_type": "code",
   "execution_count": 17,
   "metadata": {},
   "outputs": [],
   "source": [
    "###  SAVE ###\n",
    "net.accuracy(x_test[0:1], y_test[0:1])\n",
    "net.set_save_mode()\n",
    "dump = (net.layers, batch_accuracy_track, test_accuracy_track, loss_track)\n",
    "with open('alexnet.wb', 'wb') as f:\n",
    "    pickle.dump(dump, f)"
   ]
  },
  {
   "cell_type": "code",
   "execution_count": 13,
   "metadata": {},
   "outputs": [],
   "source": [
    "###  LOAD ###\n",
    "with open('alexnet.wb', 'rb') as f:\n",
    "    dump = pickle.load(f)\n",
    "(net.layers, batch_accuracy_track, test_accuracy_track, loss_track) = dump"
   ]
  },
  {
   "cell_type": "code",
   "execution_count": 21,
   "metadata": {},
   "outputs": [
    {
     "data": {
      "image/png": "[encoded data removed]",
      "text/plain": [
       "<matplotlib.figure.Figure at 0x7f0f412eb0f0>"
      ]
     },
     "metadata": {},
     "output_type": "display_data"
    }
   ],
   "source": [
    "filter_show(net.layers[0].W)"
   ]
  },
  {
   "cell_type": "code",
   "execution_count": 13,
   "metadata": {},
   "outputs": [
    {
     "data": {
      "text/plain": [
       "(96, 3, 11, 11)"
      ]
     },
     "execution_count": 13,
     "metadata": {},
     "output_type": "execute_result"
    }
   ],
   "source": [
    "net.layers[0].W.shape"
   ]
  },
  {
   "cell_type": "code",
   "execution_count": null,
   "metadata": {},
   "outputs": [],
   "source": []
  },
  {
   "cell_type": "code",
   "execution_count": null,
   "metadata": {},
   "outputs": [],
   "source": []
  }
 ],
 "metadata": {
  "kernelspec": {
   "display_name": "Python 3",
   "language": "python",
   "name": "python3"
  },
  "language_info": {
   "codemirror_mode": {
    "name": "ipython",
    "version": 3
   },
   "file_extension": ".py",
   "mimetype": "text/x-python",
   "name": "python",
   "nbconvert_exporter": "python",
   "pygments_lexer": "ipython3",
   "version": "3.6.4"
  }
 },
 "nbformat": 4,
 "nbformat_minor": 2
}
