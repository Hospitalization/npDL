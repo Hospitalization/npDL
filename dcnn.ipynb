{
 "cells": [
  {
   "cell_type": "code",
   "execution_count": 1,
   "metadata": {},
   "outputs": [
    {
     "name": "stdout",
     "output_type": "stream",
     "text": [
      "(60000, 1, 28, 28)\n",
      "(60000, 10)\n",
      "(10000, 1, 28, 28)\n",
      "(10000, 10)\n"
     ]
    }
   ],
   "source": [
    "import numpy as np\n",
    "import matplotlib.pyplot as plt\n",
    "import pickle\n",
    "from dataset.mnist import load_mnist\n",
    "(x_train, y_train), (x_test, y_test) = load_mnist(flatten=False, normalize=True, one_hot_label=True)\n",
    "print(x_train.shape)\n",
    "print(y_train.shape)\n",
    "print(x_test.shape)\n",
    "print(y_test.shape)\n",
    "\n",
    "from myfunctions import *\n",
    "from network import *"
   ]
  },
  {
   "cell_type": "code",
   "execution_count": 4,
   "metadata": {},
   "outputs": [
    {
     "name": "stdout",
     "output_type": "stream",
     "text": [
      "0 Convolution (1, 16, 28, 28)\n",
      "1 Relu (1, 16, 28, 28)\n",
      "2 Convolution (1, 16, 28, 28)\n",
      "3 Relu (1, 16, 28, 28)\n",
      "4 Pooling (1, 16, 14, 14)\n",
      "5 Convolution (1, 32, 14, 14)\n",
      "6 Relu (1, 32, 14, 14)\n",
      "7 Convolution (1, 32, 16, 16)\n",
      "8 Relu (1, 32, 16, 16)\n",
      "9 Pooling (1, 32, 8, 8)\n",
      "10 Convolution (1, 64, 8, 8)\n",
      "11 Relu (1, 64, 8, 8)\n",
      "12 Convolution (1, 64, 8, 8)\n",
      "13 Relu (1, 64, 8, 8)\n",
      "14 Pooling (1, 64, 4, 4)\n",
      "15 Flatten (1, 1024)\n",
      "16 Affine (1, 50)\n",
      "17 Relu (1, 50)\n",
      "18 Dropout (1, 50)\n",
      "19 Affine (1, 10)\n",
      "20 Dropout (1, 10)\n"
     ]
    }
   ],
   "source": [
    "net = Network()\n",
    "\n",
    "net.add(Convolution([1,28,28],[3,3],16, pad=1))\n",
    "net.add(Relu())\n",
    "net.add(Convolution([16,28,28],[3,3],16, pad=1))\n",
    "net.add(Relu())\n",
    "net.add(Pooling([2,2], stride=2))\n",
    "\n",
    "net.add(Convolution([16,14,14],[3,3],32, pad=1))\n",
    "net.add(Relu())\n",
    "net.add(Convolution([32,14,14],[3,3],32, pad=2))\n",
    "net.add(Relu())\n",
    "net.add(Pooling([2,2], stride=2))\n",
    "\n",
    "net.add(Convolution([32,8,8],[3,3],64, pad=1))\n",
    "net.add(Relu())\n",
    "net.add(Convolution([64,8,8],[3,3],64, pad=1))\n",
    "net.add(Relu())\n",
    "net.add(Pooling([2,2], stride=2))\n",
    "\n",
    "net.add(Flatten())\n",
    "net.add(Affine([1024,50]))\n",
    "net.add(Relu())\n",
    "net.add(Dropout())\n",
    "net.add(Affine([50,10]))\n",
    "net.add(Dropout())\n",
    "net.set_loss(SoftmaxWithLoss())\n",
    "\n",
    "i=0\n",
    "out = x_test[:1]\n",
    "for layer in net.layers:\n",
    "    out = layer.forward(out)\n",
    "    print(i , layer.__class__.__name__, out.shape)\n",
    "    i+=1"
   ]
  },
  {
   "cell_type": "code",
   "execution_count": 3,
   "metadata": {
    "collapsed": true
   },
   "outputs": [],
   "source": [
    "batch_accuracy_track = []\n",
    "test_accuracy_track = []\n",
    "loss_track=[]"
   ]
  },
  {
   "cell_type": "code",
   "execution_count": 5,
   "metadata": {},
   "outputs": [
    {
     "name": "stdout",
     "output_type": "stream",
     "text": [
      "== 1 Epoch, Loss 1.0314, Batch Accuracy  0.9900, Test Accuracy : 0.9850 == (12.96 m)\n",
      "== 2 Epoch, Loss 1.0139, Batch Accuracy  0.9900, Test Accuracy : 0.9880 == (12.69 m)\n",
      "== 3 Epoch, Loss 0.8741, Batch Accuracy  1.0000, Test Accuracy : 0.9920 == (11.23 m)\n",
      "== 4 Epoch, Loss 0.9636, Batch Accuracy  1.0000, Test Accuracy : 0.9930 == (7.10 m)\n",
      "== 5 Epoch, Loss 1.0130, Batch Accuracy  0.9800, Test Accuracy : 0.9890 == (7.47 m)\n",
      "== 6 Epoch, Loss 0.9374, Batch Accuracy  1.0000, Test Accuracy : 0.9940 == (7.90 m)\n",
      "== 7 Epoch, Loss 0.8521, Batch Accuracy  1.0000, Test Accuracy : 0.9900 == (7.60 m)\n",
      "== 8 Epoch, Loss 0.9739, Batch Accuracy  0.9900, Test Accuracy : 0.9880 == (7.69 m)\n",
      "== 9 Epoch, Loss 0.6379, Batch Accuracy  1.0000, Test Accuracy : 0.9920 == (7.85 m)\n"
     ]
    }
   ],
   "source": [
    "import time\n",
    "train_size = x_train.shape[0]\n",
    "batch_size = 100\n",
    "learning_rate = 0.01\n",
    "iter_per_epoch = train_size/batch_size\n",
    "epochs = 10\n",
    "iter_step = int(iter_per_epoch)\n",
    "# iter_step = 10\n",
    "for epoch in range(epochs):\n",
    "    start_time = time.time()\n",
    "    for i in range(iter_step):\n",
    "        batch_mask = np.random.choice(train_size, batch_size)\n",
    "        x_batch=x_train[batch_mask]\n",
    "        y_batch=y_train[batch_mask]\n",
    "        loss = net.fit(x_batch, y_batch, learning_rate=learning_rate)\n",
    "        loss_track.append(loss)\n",
    "        if i%(np.max([iter_step/1000,1]))==0:\n",
    "            print(\"== Loss {0:0.4f}, Process : {1:0.1f}% ==\".format(loss, i/iter_step*100), end=\"\\r\")\n",
    "    batch_accuracy = net.accuracy(x_batch, y_batch)\n",
    "    mask = np.random.choice(x_test.shape[0], 1000)\n",
    "    test_accuracy = net.accuracy(x_test[mask], y_test[mask])\n",
    "    batch_accuracy_track.append(batch_accuracy)\n",
    "    test_accuracy_track.append(test_accuracy)\n",
    "    print(\"== {0} Epoch, Loss {1:0.4f}, Batch Accuracy  {2:0.4f}, Test Accuracy : {3:0.4f} == ({4:0.2f} m)\".format(epoch+1, loss, batch_accuracy, test_accuracy, (time.time()-start_time)/60))"
   ]
  },
  {
   "cell_type": "code",
   "execution_count": 6,
   "metadata": {},
   "outputs": [
    {
     "name": "stdout",
     "output_type": "stream",
     "text": [
      "0.9930\n"
     ]
    }
   ],
   "source": [
    "mask = np.random.choice(x_test.shape[0], 1000)\n",
    "test_accuracy = net.accuracy(x_test[mask], y_test[mask])\n",
    "\n",
    "print(\"{0:0.4f}\".format(test_accuracy))"
   ]
  },
  {
   "cell_type": "code",
   "execution_count": 7,
   "metadata": {},
   "outputs": [
    {
     "data": {
      "image/png": "[encoded data removed]",
      "text/plain": [
       "<matplotlib.figure.Figure at 0x7f91a5c9cc88>"
      ]
     },
     "metadata": {},
     "output_type": "display_data"
    }
   ],
   "source": [
    "l_track = np.array(loss_track)\n",
    "x = np.arange(l_track.size)\n",
    "plt.plot(x, l_track, label=\"loss\")\n",
    "plt.ylim([0,3])\n",
    "plt.show()"
   ]
  },
  {
   "cell_type": "code",
   "execution_count": 8,
   "metadata": {},
   "outputs": [
    {
     "data": {
      "image/png": "[encoded data removed]",
      "text/plain": [
       "<matplotlib.figure.Figure at 0x7f91a5be09e8>"
      ]
     },
     "metadata": {},
     "output_type": "display_data"
    }
   ],
   "source": [
    "b_track = np.array(batch_accuracy_track)\n",
    "t_track = np.array(test_accuracy_track)\n",
    "x = np.arange(b_track.size)\n",
    "plt.plot(x, b_track, label=\"batch\")\n",
    "plt.plot(x, t_track, label=\"test\")\n",
    "# plt.ylim([0,1])\n",
    "plt.legend(loc=2)\n",
    "plt.show()"
   ]
  },
  {
   "cell_type": "code",
   "execution_count": 9,
   "metadata": {},
   "outputs": [
    {
     "data": {
      "image/png": "[encoded data removed]",
      "text/plain": [
       "<matplotlib.figure.Figure at 0x7f91a5c9c668>"
      ]
     },
     "metadata": {},
     "output_type": "display_data"
    }
   ],
   "source": [
    "a = net.layers[1].forward(net.layers[0].forward(x_test[0:5000])).reshape(-1)\n",
    "plt.hist(a, bins=100, range=(0.01,2))\n",
    "plt.show()"
   ]
  },
  {
   "cell_type": "code",
   "execution_count": null,
   "metadata": {
    "collapsed": true
   },
   "outputs": [],
   "source": []
  },
  {
   "cell_type": "code",
   "execution_count": 43,
   "metadata": {
    "collapsed": true
   },
   "outputs": [],
   "source": [
    "###  SAVE ###\n",
    "net.accuracy(x_test[0:1], y_test[0:1])\n",
    "dump = (net.layers, batch_accuracy_track, test_accuracy_track, loss_track)\n",
    "with open('ch8.wb', 'wb') as f:\n",
    "    pickle.dump(dump, f)"
   ]
  },
  {
   "cell_type": "code",
   "execution_count": 4,
   "metadata": {
    "collapsed": true
   },
   "outputs": [],
   "source": [
    "###  LOAD ###\n",
    "with open('ch8.wb', 'rb') as f:\n",
    "    dump = pickle.load(f)\n",
    "(net.layers, batch_accuracy_track, test_accuracy_track, loss_track) = dump\n"
   ]
  },
  {
   "cell_type": "code",
   "execution_count": 42,
   "metadata": {},
   "outputs": [
    {
     "data": {
      "image/png": "[encoded data removed]",
      "text/plain": [
       "<matplotlib.figure.Figure at 0x7f918fe16470>"
      ]
     },
     "metadata": {},
     "output_type": "display_data"
    },
    {
     "data": {
      "text/plain": [
       "5"
      ]
     },
     "execution_count": 42,
     "metadata": {},
     "output_type": "execute_result"
    }
   ],
   "source": [
    "## Jpeg to 28,28,1\n",
    "%matplotlib inline\n",
    "import os\n",
    "import cv2\n",
    "import matplotlib.pyplot as plt\n",
    "path = \"/home/heim/mount_disk/workspace/python/jupyter/Deep learning from scratch/\"\n",
    "im = cv2.imread(path+\"5.jpg\", cv2.IMREAD_GRAYSCALE)\n",
    "t = int(im.shape[0]>im.shape[1])\n",
    "diff = im.shape[1]-im.shape[0]\n",
    "im = im[-t*int(diff/2):im.shape[0]+t*int(diff/2),(1-t)*int(diff/2):im.shape[1]-(1-t)*int(diff/2)]\n",
    "im = 1-cv2.resize(im, (28,28), cv2.INTER_AREA)/255\n",
    "im = np.expand_dims(np.expand_dims(im, axis=0), axis=0)\n",
    "plt.imshow(im[0][0])\n",
    "plt.show()\n",
    "np.argmax(net.predict(im))"
   ]
  },
  {
   "cell_type": "code",
   "execution_count": 5,
   "metadata": {},
   "outputs": [
    {
     "data": {
      "image/png": "[encoded data removed]",
      "text/plain": [
       "<matplotlib.figure.Figure at 0x7fdc14358908>"
      ]
     },
     "metadata": {},
     "output_type": "display_data"
    }
   ],
   "source": []
  },
  {
   "cell_type": "code",
   "execution_count": null,
   "metadata": {
    "collapsed": true
   },
   "outputs": [],
   "source": []
  },
  {
   "cell_type": "code",
   "execution_count": null,
   "metadata": {
    "collapsed": true
   },
   "outputs": [],
   "source": []
  },
  {
   "cell_type": "code",
   "execution_count": null,
   "metadata": {
    "collapsed": true
   },
   "outputs": [],
   "source": []
  },
  {
   "cell_type": "code",
   "execution_count": null,
   "metadata": {
    "collapsed": true
   },
   "outputs": [],
   "source": []
  },
  {
   "cell_type": "code",
   "execution_count": null,
   "metadata": {
    "collapsed": true
   },
   "outputs": [],
   "source": []
  },
  {
   "cell_type": "code",
   "execution_count": null,
   "metadata": {
    "collapsed": true
   },
   "outputs": [],
   "source": []
  },
  {
   "cell_type": "code",
   "execution_count": null,
   "metadata": {
    "collapsed": true
   },
   "outputs": [],
   "source": []
  }
 ],
 "metadata": {
  "kernelspec": {
   "display_name": "Python 3",
   "language": "python",
   "name": "python3"
  },
  "language_info": {
   "codemirror_mode": {
    "name": "ipython",
    "version": 3
   },
   "file_extension": ".py",
   "mimetype": "text/x-python",
   "name": "python",
   "nbconvert_exporter": "python",
   "pygments_lexer": "ipython3",
   "version": "3.6.3"
  }
 },
 "nbformat": 4,
 "nbformat_minor": 2
}
