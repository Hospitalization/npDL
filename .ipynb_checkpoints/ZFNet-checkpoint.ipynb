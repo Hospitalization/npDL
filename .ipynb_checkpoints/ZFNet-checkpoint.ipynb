{
 "cells": [
  {
   "cell_type": "code",
   "execution_count": 1,
   "metadata": {},
   "outputs": [],
   "source": [
    "import numpy as np\n",
    "from network import *\n",
    "\n",
    "import pickle"
   ]
  },
  {
   "cell_type": "code",
   "execution_count": null,
   "metadata": {},
   "outputs": [],
   "source": []
  },
  {
   "cell_type": "markdown",
   "metadata": {},
   "source": [
    "# Data Augmentation\n",
    "256x256 crop random 224x224 5개<br/>\n",
    "좌우 반전하여 10개 생성<br/>\n",
    "\n",
    "RGB pixel에 PCA를 하고, Gaussian dist(0, 0.1)을 곱하고 원래 픽셀에 더함"
   ]
  },
  {
   "cell_type": "code",
   "execution_count": 2,
   "metadata": {},
   "outputs": [],
   "source": [
    "%matplotlib inline\n",
    "import os\n",
    "import cv2\n",
    "import random\n",
    "import matplotlib.pyplot as plt\n",
    "from matplotlib.mlab import PCA\n",
    "\n",
    "# path = \"/home/heim/mount_disk/workspace/datasets/101_ObjectCategories/\"\n",
    "path = \"/home/heim/mount_disk/workspace/datasets/ilsvrc12/train/\"\n",
    "\n",
    "# folders_train = os.listdir(path+\"train/\")\n",
    "# path_data = []\n",
    "# for i in range(folders_train.__len__()):\n",
    "#     data_aclass = os.listdir(path+\"train/\"+folders_train[i])\n",
    "#     path_data.append(data_aclass)\n",
    "\n",
    "def gether_data(batch_size):\n",
    "    x_batch = []\n",
    "    y_batch = []\n",
    "    \n",
    "    for i in range(batch_size):\n",
    "        y = np.random.randint(0,1000)\n",
    "        data_path = path+str(os.listdir(path)[y])+\"/\"\n",
    "        data_path +=random.choice(os.listdir(data_path))\n",
    "        im = cv2.imread(data_path).astype(float)\n",
    "        # im = cv2.cvtColor(im, cv2.COLOR_BGR2RGB)\n",
    "        t = int(im.shape[0]>im.shape[1])\n",
    "        diff = im.shape[1]-im.shape[0]\n",
    "        im = im[-t*int(diff/2):im.shape[0]+t*int(diff/2),(1-t)*int(diff/2):im.shape[1]-(1-t)*int(diff/2),:]\n",
    "        im = cv2.resize(im, (256,256))\n",
    "        \n",
    "        pos_x, pos_y = [[0,0],[2,2],[1,1],[0,2],[2,0]][np.random.randint(0,5)]\n",
    "        \n",
    "        im = im[16*pos_x:256-16*(2-pos_x),16*pos_y:256-16*(2-pos_y),:]\n",
    "        \n",
    "        if np.random.randint(0,2):\n",
    "            im = cv2.flip(im, 1)\n",
    "        # plt.imshow(im)\n",
    "        # plt.show()\n",
    "        \n",
    "        im =(im-127)/255\n",
    "        x_batch.append(im)\n",
    "        y_batch.append(y)\n",
    "    \n",
    "    return np.array(x_batch).transpose(0,3,1,2), one_hot_encoder(np.array(y_batch),1000)"
   ]
  },
  {
   "cell_type": "code",
   "execution_count": 3,
   "metadata": {},
   "outputs": [
    {
     "data": {
      "text/plain": [
       "(2, 3, 224, 224)"
      ]
     },
     "execution_count": 3,
     "metadata": {},
     "output_type": "execute_result"
    }
   ],
   "source": [
    "gether_data(2)[0].shape"
   ]
  },
  {
   "cell_type": "code",
   "execution_count": 4,
   "metadata": {},
   "outputs": [
    {
     "name": "stdout",
     "output_type": "stream",
     "text": [
      "(2, 3, 224, 224) (2, 1000)\n"
     ]
    }
   ],
   "source": [
    "x_batch, y_batch = gether_data(2)\n",
    "print(x_batch.shape,y_batch.shape)"
   ]
  },
  {
   "cell_type": "markdown",
   "metadata": {},
   "source": [
    "# Network structure\n",
    "Total 8 weight layers\n",
    "\n",
    "**5 Convolution layers**\n",
    "\n",
    "        Conv 1 : 7x7x3, 96 kernels, stride=2, pad=0? 2\n",
    "            ReLU\n",
    "            MaxPool 1 : 3x3, stride=2\n",
    "        Conv 2 : 5x5x96, 256 kernels, stride=1, pad=2\n",
    "            ReLU\n",
    "            MaxPool 2 : 3x3, stride=2\n",
    "        Conv 3 : 3x3x256, 384 kernels, stride=1, pad=1\n",
    "            ReLU\n",
    "        Conv 4 : 3x3x384, 384 kernels, stride=1, pad=1\n",
    "            ReLU\n",
    "        Conv 5 : 3x3x384, 256 kernels, stride=1, pad=1\n",
    "            ReLU\n",
    "            MaxPool 3 : 3x3, stride=2\n",
    "**3 Dense layers**\n",
    "\n",
    "        Dense 1:  4096\n",
    "            ReLU\n",
    "            Dropout : 50 %\n",
    "        Dense 2 : 4096\n",
    "            ReLU\n",
    "            Dropout : 50 %\n",
    "        Dense 3 : 1000\n",
    "    \n",
    "**1000-way softmax**"
   ]
  },
  {
   "cell_type": "code",
   "execution_count": 5,
   "metadata": {},
   "outputs": [
    {
     "name": "stdout",
     "output_type": "stream",
     "text": [
      "0 Convolution (1, 96, 111, 111)\n",
      "1 Relu (1, 96, 111, 111)\n",
      "2 Pooling (1, 96, 55, 55)\n",
      "3 Convolution (1, 256, 55, 55)\n",
      "4 Relu (1, 256, 55, 55)\n",
      "5 Pooling (1, 256, 27, 27)\n",
      "6 Convolution (1, 384, 27, 27)\n",
      "7 Relu (1, 384, 27, 27)\n",
      "8 Pooling (1, 384, 13, 13)\n",
      "9 Convolution (1, 384, 13, 13)\n",
      "10 Relu (1, 384, 13, 13)\n",
      "11 Convolution (1, 256, 13, 13)\n",
      "12 Relu (1, 256, 13, 13)\n",
      "13 Pooling (1, 256, 6, 6)\n",
      "14 Flatten (1, 9216)\n",
      "15 Affine (1, 4096)\n",
      "16 Relu (1, 4096)\n",
      "17 Affine (1, 4096)\n",
      "18 Relu (1, 4096)\n",
      "19 Affine (1, 1000)\n"
     ]
    }
   ],
   "source": [
    "net = Network()\n",
    "\n",
    "initializer =\"adam\"\n",
    "# Conv 1 : 11x11x3, 96 kernels, stride=4, pad=0\n",
    "net.add(Convolution([3,224,224],[7,7],96, stride=2, pad=2, initializer=initializer))\n",
    "# net.add(Convolution([3,224,224],[7,7],96, stride=2, pad=2, initializer=initializer))\n",
    "net.add(Relu())\n",
    "net.add(Pooling([3,3], stride=2))\n",
    "\n",
    "# Conv 2 : 5x5x96, 256 kernels, stride=1, pad=2\n",
    "net.add(Convolution([96,55,55],[5,5],256, pad=2, initializer=initializer))\n",
    "net.add(Relu())\n",
    "net.add(Pooling([3,3], stride=2))\n",
    "\n",
    "# Conv 3 : 3x3x256, 384 kernels, stride=1, pad=1\n",
    "net.add(Convolution([256,27,27],[5,5],384, pad=2, initializer=initializer))\n",
    "net.add(Relu())\n",
    "net.add(Pooling([3,3], stride=2))\n",
    "\n",
    "\n",
    "# Conv 4 : 3x3x384, 384 kernels, stride=1, pad=1\n",
    "net.add(Convolution([384,13,13],[3,3],384, pad=1, initializer=initializer))\n",
    "net.add(Relu())\n",
    "\n",
    "# Conv 5 : 3x3x384, 256 kernels, stride=1, pad=1\n",
    "net.add(Convolution([384,13,13],[3,3],256, pad=1, initializer=initializer))\n",
    "net.add(Relu())\n",
    "net.add(Pooling([3,3], stride=2))\n",
    "\n",
    "\n",
    "net.add(Flatten())\n",
    "net.add(Affine([9216,4096], initializer=initializer))\n",
    "net.add(Relu())\n",
    "# net.add(Dropout())\n",
    "net.add(Affine([4096,4096], initializer=initializer))\n",
    "net.add(Relu())\n",
    "# net.add(Dropout())\n",
    "net.add(Affine([4096,1000], initializer=initializer))\n",
    "net.set_loss(SoftmaxWithLoss())\n",
    "\n",
    "i=0\n",
    "out = np.ones([1,3,224,224])\n",
    "for layer in net.layers:\n",
    "    out = layer.forward(out)\n",
    "    print(i , layer.__class__.__name__, out.shape)\n",
    "    i+=1"
   ]
  },
  {
   "cell_type": "markdown",
   "metadata": {},
   "source": [
    "# Details of Learning\n",
    "- mini-batch size : 128\n",
    "- momentum : 0.9, weight decay : 0.0005\n",
    "- 0-mean gaussian *0.01\n",
    "- dropout:0.5\n",
    "- learning rate : 0.01, validation error가 멈추면 1/10배\n",
    "- (7개 CNN 앙상블) 미정"
   ]
  },
  {
   "cell_type": "code",
   "execution_count": 6,
   "metadata": {},
   "outputs": [],
   "source": [
    "batch_accuracy_track = []\n",
    "test_accuracy_track = []\n",
    "loss_track=[]"
   ]
  },
  {
   "cell_type": "code",
   "execution_count": 10,
   "metadata": {},
   "outputs": [
    {
     "name": "stdout",
     "output_type": "stream",
     "text": [
      "== Loss 6.7523, Process : 0.5675% ==\r"
     ]
    },
    {
     "ename": "KeyboardInterrupt",
     "evalue": "",
     "output_type": "error",
     "traceback": [
      "\u001b[0;31m---------------------------------------------------------------------------\u001b[0m",
      "\u001b[0;31mKeyboardInterrupt\u001b[0m                         Traceback (most recent call last)",
      "\u001b[0;32m<ipython-input-10-68d9a6d7cf0a>\u001b[0m in \u001b[0;36m<module>\u001b[0;34m()\u001b[0m\n\u001b[1;32m     10\u001b[0m     \u001b[0;32mfor\u001b[0m \u001b[0mi\u001b[0m \u001b[0;32min\u001b[0m \u001b[0mrange\u001b[0m\u001b[0;34m(\u001b[0m\u001b[0miter_step\u001b[0m\u001b[0;34m)\u001b[0m\u001b[0;34m:\u001b[0m\u001b[0;34m\u001b[0m\u001b[0m\n\u001b[1;32m     11\u001b[0m         \u001b[0mx_batch\u001b[0m\u001b[0;34m,\u001b[0m \u001b[0my_batch\u001b[0m \u001b[0;34m=\u001b[0m \u001b[0mgether_data\u001b[0m\u001b[0;34m(\u001b[0m\u001b[0mbatch_size\u001b[0m\u001b[0;34m)\u001b[0m\u001b[0;34m\u001b[0m\u001b[0m\n\u001b[0;32m---> 12\u001b[0;31m         \u001b[0mloss\u001b[0m \u001b[0;34m=\u001b[0m \u001b[0mnet\u001b[0m\u001b[0;34m.\u001b[0m\u001b[0mfit\u001b[0m\u001b[0;34m(\u001b[0m\u001b[0mx_batch\u001b[0m\u001b[0;34m,\u001b[0m \u001b[0my_batch\u001b[0m\u001b[0;34m,\u001b[0m \u001b[0mlearning_rate\u001b[0m\u001b[0;34m=\u001b[0m\u001b[0mlearning_rate\u001b[0m\u001b[0;34m)\u001b[0m\u001b[0;34m\u001b[0m\u001b[0m\n\u001b[0m\u001b[1;32m     13\u001b[0m         \u001b[0mloss_track\u001b[0m\u001b[0;34m.\u001b[0m\u001b[0mappend\u001b[0m\u001b[0;34m(\u001b[0m\u001b[0mloss\u001b[0m\u001b[0;34m)\u001b[0m\u001b[0;34m\u001b[0m\u001b[0m\n\u001b[1;32m     14\u001b[0m         \u001b[0;32mif\u001b[0m \u001b[0mi\u001b[0m\u001b[0;34m%\u001b[0m\u001b[0;34m(\u001b[0m\u001b[0mnp\u001b[0m\u001b[0;34m.\u001b[0m\u001b[0mmax\u001b[0m\u001b[0;34m(\u001b[0m\u001b[0;34m[\u001b[0m\u001b[0miter_step\u001b[0m\u001b[0;34m/\u001b[0m\u001b[0;36m100000\u001b[0m\u001b[0;34m,\u001b[0m\u001b[0;36m1\u001b[0m\u001b[0;34m]\u001b[0m\u001b[0;34m)\u001b[0m\u001b[0;34m)\u001b[0m\u001b[0;34m==\u001b[0m\u001b[0;36m0\u001b[0m\u001b[0;34m:\u001b[0m\u001b[0;34m\u001b[0m\u001b[0m\n",
      "\u001b[0;32m~/mount_disk/workspace/python/jupyter/Deep learning from scratch/network.py\u001b[0m in \u001b[0;36mfit\u001b[0;34m(self, x, y, learning_rate, momentum_rate, adaGrad_rate, RMSProp_rate, optimizer)\u001b[0m\n\u001b[1;32m    316\u001b[0m \u001b[0;34m\u001b[0m\u001b[0m\n\u001b[1;32m    317\u001b[0m     \u001b[0;32mdef\u001b[0m \u001b[0mfit\u001b[0m\u001b[0;34m(\u001b[0m\u001b[0mself\u001b[0m\u001b[0;34m,\u001b[0m \u001b[0mx\u001b[0m\u001b[0;34m,\u001b[0m \u001b[0my\u001b[0m\u001b[0;34m,\u001b[0m \u001b[0mlearning_rate\u001b[0m\u001b[0;34m=\u001b[0m\u001b[0;36m0.01\u001b[0m\u001b[0;34m,\u001b[0m \u001b[0mmomentum_rate\u001b[0m\u001b[0;34m=\u001b[0m\u001b[0;36m0\u001b[0m\u001b[0;34m,\u001b[0m \u001b[0madaGrad_rate\u001b[0m\u001b[0;34m=\u001b[0m\u001b[0;36m0\u001b[0m\u001b[0;34m,\u001b[0m \u001b[0mRMSProp_rate\u001b[0m\u001b[0;34m=\u001b[0m\u001b[0;36m0\u001b[0m\u001b[0;34m,\u001b[0m \u001b[0moptimizer\u001b[0m\u001b[0;34m=\u001b[0m\u001b[0;34m\"adam\"\u001b[0m\u001b[0;34m)\u001b[0m\u001b[0;34m:\u001b[0m\u001b[0;34m\u001b[0m\u001b[0m\n\u001b[0;32m--> 318\u001b[0;31m         \u001b[0mout\u001b[0m \u001b[0;34m=\u001b[0m \u001b[0mself\u001b[0m\u001b[0;34m.\u001b[0m\u001b[0mpredict\u001b[0m\u001b[0;34m(\u001b[0m\u001b[0mx\u001b[0m\u001b[0;34m,\u001b[0m \u001b[0mtrain_flg\u001b[0m\u001b[0;34m=\u001b[0m\u001b[0;32mTrue\u001b[0m\u001b[0;34m)\u001b[0m\u001b[0;34m\u001b[0m\u001b[0m\n\u001b[0m\u001b[1;32m    319\u001b[0m         \u001b[0mloss\u001b[0m \u001b[0;34m=\u001b[0m \u001b[0mself\u001b[0m\u001b[0;34m.\u001b[0m\u001b[0mloss_layer\u001b[0m\u001b[0;34m.\u001b[0m\u001b[0mforward\u001b[0m\u001b[0;34m(\u001b[0m\u001b[0mout\u001b[0m\u001b[0;34m,\u001b[0m \u001b[0my\u001b[0m\u001b[0;34m)\u001b[0m\u001b[0;34m\u001b[0m\u001b[0m\n\u001b[1;32m    320\u001b[0m \u001b[0;34m\u001b[0m\u001b[0m\n",
      "\u001b[0;32m~/mount_disk/workspace/python/jupyter/Deep learning from scratch/network.py\u001b[0m in \u001b[0;36mpredict\u001b[0;34m(self, x, train_flg)\u001b[0m\n\u001b[1;32m    309\u001b[0m                 \u001b[0mout\u001b[0m \u001b[0;34m=\u001b[0m \u001b[0mlayer\u001b[0m\u001b[0;34m.\u001b[0m\u001b[0mforward\u001b[0m\u001b[0;34m(\u001b[0m\u001b[0mout\u001b[0m\u001b[0;34m,\u001b[0m \u001b[0mtrain_flg\u001b[0m\u001b[0;34m)\u001b[0m\u001b[0;34m\u001b[0m\u001b[0m\n\u001b[1;32m    310\u001b[0m             \u001b[0;32melse\u001b[0m\u001b[0;34m:\u001b[0m\u001b[0;34m\u001b[0m\u001b[0m\n\u001b[0;32m--> 311\u001b[0;31m                 \u001b[0mout\u001b[0m \u001b[0;34m=\u001b[0m \u001b[0mlayer\u001b[0m\u001b[0;34m.\u001b[0m\u001b[0mforward\u001b[0m\u001b[0;34m(\u001b[0m\u001b[0mout\u001b[0m\u001b[0;34m)\u001b[0m\u001b[0;34m\u001b[0m\u001b[0m\n\u001b[0m\u001b[1;32m    312\u001b[0m         \u001b[0;32mreturn\u001b[0m \u001b[0mout\u001b[0m\u001b[0;34m\u001b[0m\u001b[0m\n\u001b[1;32m    313\u001b[0m \u001b[0;34m\u001b[0m\u001b[0m\n",
      "\u001b[0;32m~/mount_disk/workspace/python/jupyter/Deep learning from scratch/network.py\u001b[0m in \u001b[0;36mforward\u001b[0;34m(self, x)\u001b[0m\n\u001b[1;32m    196\u001b[0m         \u001b[0mx_c\u001b[0m \u001b[0;34m=\u001b[0m \u001b[0mim2col\u001b[0m\u001b[0;34m(\u001b[0m\u001b[0mx\u001b[0m\u001b[0;34m,\u001b[0m \u001b[0mfilter_h\u001b[0m\u001b[0;34m,\u001b[0m \u001b[0mfilter_w\u001b[0m\u001b[0;34m,\u001b[0m \u001b[0mstride\u001b[0m\u001b[0;34m=\u001b[0m\u001b[0mself\u001b[0m\u001b[0;34m.\u001b[0m\u001b[0mstride\u001b[0m\u001b[0;34m,\u001b[0m \u001b[0mpad\u001b[0m\u001b[0;34m=\u001b[0m\u001b[0mself\u001b[0m\u001b[0;34m.\u001b[0m\u001b[0mpad\u001b[0m\u001b[0;34m)\u001b[0m\u001b[0;34m\u001b[0m\u001b[0m\n\u001b[1;32m    197\u001b[0m         \u001b[0mW_c\u001b[0m \u001b[0;34m=\u001b[0m \u001b[0mself\u001b[0m\u001b[0;34m.\u001b[0m\u001b[0mW\u001b[0m\u001b[0;34m.\u001b[0m\u001b[0mreshape\u001b[0m\u001b[0;34m(\u001b[0m\u001b[0mself\u001b[0m\u001b[0;34m.\u001b[0m\u001b[0mfilter_n\u001b[0m\u001b[0;34m,\u001b[0m\u001b[0;34m-\u001b[0m\u001b[0;36m1\u001b[0m\u001b[0;34m)\u001b[0m\u001b[0;34m\u001b[0m\u001b[0m\n\u001b[0;32m--> 198\u001b[0;31m         \u001b[0mout_c\u001b[0m \u001b[0;34m=\u001b[0m \u001b[0mnp\u001b[0m\u001b[0;34m.\u001b[0m\u001b[0mdot\u001b[0m\u001b[0;34m(\u001b[0m\u001b[0mx_c\u001b[0m\u001b[0;34m,\u001b[0m \u001b[0mW_c\u001b[0m\u001b[0;34m.\u001b[0m\u001b[0mT\u001b[0m\u001b[0;34m)\u001b[0m\u001b[0;34m+\u001b[0m\u001b[0mself\u001b[0m\u001b[0;34m.\u001b[0m\u001b[0mb\u001b[0m\u001b[0;34m\u001b[0m\u001b[0m\n\u001b[0m\u001b[1;32m    199\u001b[0m \u001b[0;34m\u001b[0m\u001b[0m\n\u001b[1;32m    200\u001b[0m         \u001b[0mself\u001b[0m\u001b[0;34m.\u001b[0m\u001b[0mx\u001b[0m \u001b[0;34m=\u001b[0m \u001b[0mx\u001b[0m\u001b[0;34m\u001b[0m\u001b[0m\n",
      "\u001b[0;31mKeyboardInterrupt\u001b[0m: "
     ]
    }
   ],
   "source": [
    "import time\n",
    "train_size = 12000000\n",
    "batch_size = 128\n",
    "learning_rate=0.00003\n",
    "iter_per_epoch = train_size/batch_size\n",
    "epochs = 1\n",
    "iter_step = int(iter_per_epoch)\n",
    "for epoch in range(epochs):\n",
    "    start_time = time.time()\n",
    "    for i in range(iter_step):\n",
    "        x_batch, y_batch = gether_data(batch_size)\n",
    "        loss = net.fit(x_batch, y_batch, learning_rate=learning_rate)\n",
    "        loss_track.append(loss)\n",
    "        i-+max([iter_step/100000,1]))==0:\n",
    "            print(\"== Loss {0:0.4f}, Process : {1:0.4f}% ==\".format(loss, i/iter_step*100), end=\"\\r\")\n",
    "    batch_accuracy = net.accuracy(x_batch, y_batch)\n",
    "    x_test, y_test = gether_data(batch_size)\n",
    "    test_accuracy = net.accuracy(x_test, y_test)\n",
    "    batch_accuracy_track.append(batch_accuracy)\n",
    "    test_accuracy_track.append(test_accuracy)\n",
    "    print(\"== {0} Epoch, Loss {1:0.4f}, Batch Accuracy  {2:0.4f}, Test Accuracy : {3:0.3f} == ({4:0.2f} m)\".format(epoch+1, loss, batch_accuracy, test_accuracy, (time.time()-start_time)/60))"
   ]
  },
  {
   "cell_type": "code",
   "execution_count": 11,
   "metadata": {},
   "outputs": [
    {
     "data": {
      "text/plain": [
       "0.01"
      ]
     },
     "execution_count": 11,
     "metadata": {},
     "output_type": "execute_result"
    }
   ],
   "source": [
    "x_test, y_test = gether_data(100)\n",
    "net.accuracy(x_test,y_test,top=5)"
   ]
  },
  {
   "cell_type": "code",
   "execution_count": 12,
   "metadata": {},
   "outputs": [
    {
     "data": {
      "image/png": "[encoded data removed]",
      "text/plain": [
       "<Figure size 432x288 with 1 Axes>"
      ]
     },
     "metadata": {},
     "output_type": "display_data"
    }
   ],
   "source": [
    "l_track = np.array(loss_track)\n",
    "x = np.arange(l_track.size)\n",
    "plt.plot(x, l_track, label=\"loss\")\n",
    "# plt.ylim([0,8])\n",
    "plt.show()"
   ]
  },
  {
   "cell_type": "code",
   "execution_count": 10,
   "metadata": {},
   "outputs": [
    {
     "data": {
      "image/png": "[encoded data removed]",
      "text/plain": [
       "<matplotlib.figure.Figure at 0x7f1cb0a1e358>"
      ]
     },
     "metadata": {},
     "output_type": "display_data"
    }
   ],
   "source": [
    "b_track = np.array(batch_accuracy_track)\n",
    "t_track = np.array(test_accuracy_track)\n",
    "x = np.arange(b_track.size)\n",
    "plt.plot(x, b_track, label=\"batch\")\n",
    "plt.plot(x, t_track, label=\"test\")\n",
    "# plt.ylim([0,1])\n",
    "plt.legend(loc=2)\n",
    "plt.show()"
   ]
  },
  {
   "cell_type": "code",
   "execution_count": 13,
   "metadata": {},
   "outputs": [],
   "source": [
    "###  SAVE ###\n",
    "net.accuracy(x_batch[0:1], y_batch[0:1])\n",
    "net.set_save_mode()\n",
    "dump = (net.layers, batch_accuracy_track, test_accuracy_track, loss_track)\n",
    "with open('zfnet.wb', 'wb') as f:\n",
    "    pickle.dump(dump, f)"
   ]
  },
  {
   "cell_type": "code",
   "execution_count": 7,
   "metadata": {},
   "outputs": [],
   "source": [
    "###  LOAD ###\n",
    "with open('zfnet.wb', 'rb') as f:\n",
    "    dump = pickle.load(f)\n",
    "(net.layers, batch_accuracy_track, test_accuracy_track, loss_track) = dump"
   ]
  },
  {
   "cell_type": "code",
   "execution_count": 14,
   "metadata": {},
   "outputs": [
    {
     "data": {
      "image/png": "[encoded data removed]",
      "text/plain": [
       "<Figure size 432x288 with 96 Axes>"
      ]
     },
     "metadata": {},
     "output_type": "display_data"
    }
   ],
   "source": [
    "filter_show(net.layers[0].W)"
   ]
  },
  {
   "cell_type": "code",
   "execution_count": 15,
   "metadata": {},
   "outputs": [
    {
     "data": {
      "text/plain": [
       "-0.010548445868354949"
      ]
     },
     "execution_count": 15,
     "metadata": {},
     "output_type": "execute_result"
    }
   ],
   "source": [
    "net.layers[0].W[0,0,0,0]"
   ]
  },
  {
   "cell_type": "code",
   "execution_count": 16,
   "metadata": {},
   "outputs": [
    {
     "ename": "TypeError",
     "evalue": "'NoneType' object is not subscriptable",
     "output_type": "error",
     "traceback": [
      "\u001b[0;31m---------------------------------------------------------------------------\u001b[0m",
      "\u001b[0;31mTypeError\u001b[0m                                 Traceback (most recent call last)",
      "\u001b[0;32m<ipython-input-16-d38caedb0ab9>\u001b[0m in \u001b[0;36m<module>\u001b[0;34m()\u001b[0m\n\u001b[0;32m----> 1\u001b[0;31m \u001b[0mnet\u001b[0m\u001b[0;34m.\u001b[0m\u001b[0mlayers\u001b[0m\u001b[0;34m[\u001b[0m\u001b[0;36m0\u001b[0m\u001b[0;34m]\u001b[0m\u001b[0;34m.\u001b[0m\u001b[0mdW\u001b[0m\u001b[0;34m[\u001b[0m\u001b[0;36m0\u001b[0m\u001b[0;34m,\u001b[0m\u001b[0;36m0\u001b[0m\u001b[0;34m,\u001b[0m\u001b[0;36m0\u001b[0m\u001b[0;34m,\u001b[0m\u001b[0;36m0\u001b[0m\u001b[0;34m]\u001b[0m\u001b[0;34m\u001b[0m\u001b[0m\n\u001b[0m",
      "\u001b[0;31mTypeError\u001b[0m: 'NoneType' object is not subscriptable"
     ]
    }
   ],
   "source": [
    "net.layers[0].dW[0,0,0,0]"
   ]
  },
  {
   "cell_type": "code",
   "execution_count": 39,
   "metadata": {},
   "outputs": [
    {
     "data": {
      "text/plain": [
       "5.8261850147029985"
      ]
     },
     "execution_count": 39,
     "metadata": {},
     "output_type": "execute_result"
    }
   ],
   "source": [
    "net.fit(x_batch, y_batch, learning_rate=learning_rate)"
   ]
  },
  {
   "cell_type": "code",
   "execution_count": 40,
   "metadata": {
    "scrolled": true
   },
   "outputs": [
    {
     "data": {
      "text/plain": [
       "0.01019659063671522"
      ]
     },
     "execution_count": 40,
     "metadata": {},
     "output_type": "execute_result"
    }
   ],
   "source": [
    "net.layers[0].W[0,0,0,0]"
   ]
  },
  {
   "cell_type": "code",
   "execution_count": 41,
   "metadata": {},
   "outputs": [
    {
     "data": {
      "text/plain": [
       "0.010683897555013736"
      ]
     },
     "execution_count": 41,
     "metadata": {},
     "output_type": "execute_result"
    }
   ],
   "source": [
    "net.layers[0].dW[0,0,0,0]"
   ]
  },
  {
   "cell_type": "code",
   "execution_count": 31,
   "metadata": {},
   "outputs": [
    {
     "data": {
      "text/plain": [
       "-3.416734245537036e-05"
      ]
     },
     "execution_count": 31,
     "metadata": {},
     "output_type": "execute_result"
    }
   ],
   "source": [
    "0.007187844113708725-0.007189976661670202"
   ]
  },
  {
   "cell_type": "code",
   "execution_count": null,
   "metadata": {},
   "outputs": [],
   "source": []
  },
  {
   "cell_type": "markdown",
   "metadata": {},
   "source": []
  }
 ],
 "metadata": {
  "kernelspec": {
   "display_name": "Python 3",
   "language": "python",
   "name": "python3"
  },
  "language_info": {
   "codemirror_mode": {
    "name": "ipython",
    "version": 3
   },
   "file_extension": ".py",
   "mimetype": "text/x-python",
   "name": "python",
   "nbconvert_exporter": "python",
   "pygments_lexer": "ipython3",
   "version": "3.6.4"
  }
 },
 "nbformat": 4,
 "nbformat_minor": 2
}
