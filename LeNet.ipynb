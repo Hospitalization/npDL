{
 "cells": [
  {
   "cell_type": "code",
   "execution_count": 1,
   "metadata": {},
   "outputs": [
    {
     "name": "stdout",
     "output_type": "stream",
     "text": [
      "(60000, 1, 28, 28)\n",
      "(60000, 10)\n",
      "(10000, 1, 28, 28)\n",
      "(10000, 10)\n"
     ]
    }
   ],
   "source": [
    "import numpy as np\n",
    "import matplotlib.pyplot as plt\n",
    "import sys, os\n",
    "sys.path.append(os.pardir)\n",
    "from dataset.mnist import load_mnist\n",
    "(x_train, y_train), (x_test, y_test) = load_mnist(flatten=False, normalize=True, one_hot_label=True)\n",
    "print(x_train.shape)\n",
    "print(y_train.shape)\n",
    "print(x_test.shape)\n",
    "print(y_test.shape)\n",
    "\n",
    "from myfunctions import *\n",
    "from network import *"
   ]
  },
  {
   "cell_type": "code",
   "execution_count": 2,
   "metadata": {},
   "outputs": [
    {
     "name": "stdout",
     "output_type": "stream",
     "text": [
      "0 Convolution\n",
      "1 Relu\n",
      "2 Pooling\n",
      "3 Convolution\n",
      "4 Relu\n",
      "5 Pooling\n",
      "6 Flatten\n",
      "7 Affine\n",
      "8 Relu\n",
      "9 Affine\n"
     ]
    }
   ],
   "source": [
    "net = Network()\n",
    "\n",
    "net.add(Convolution([1,28,28],[5,5],6))\n",
    "net.add(Relu())\n",
    "net.add(Pooling([2,2], stride=2))\n",
    "net.add(Convolution([6,12,12],[3,3],16))\n",
    "net.add(Relu())\n",
    "net.add(Pooling([2,2], stride=2))\n",
    "net.add(Flatten())\n",
    "net.add(Affine([400,100]))\n",
    "net.add(Relu())\n",
    "net.add(Affine([100,10]))\n",
    "net.set_loss(SoftmaxWithLoss())\n",
    "\n",
    "i=0\n",
    "for layer in net.layers:\n",
    "    print(i, layer.__class__.__name__)\n",
    "    i+=1"
   ]
  },
  {
   "cell_type": "code",
   "execution_count": 3,
   "metadata": {},
   "outputs": [
    {
     "name": "stdout",
     "output_type": "stream",
     "text": [
      "(10000, 6, 24, 24)\n",
      "(10000, 6, 24, 24)\n",
      "(10000, 6, 12, 12)\n",
      "(10000, 16, 10, 10)\n",
      "(10000, 16, 10, 10)\n",
      "(10000, 16, 5, 5)\n",
      "(10000, 400)\n",
      "(10000, 100)\n",
      "(10000, 100)\n",
      "(10000, 10)\n"
     ]
    }
   ],
   "source": [
    "out = x_test\n",
    "for layer in net.layers:\n",
    "    out = layer.forward(out)\n",
    "    print(out.shape)"
   ]
  },
  {
   "cell_type": "code",
   "execution_count": 4,
   "metadata": {},
   "outputs": [],
   "source": [
    "batch_accuracy_track = []\n",
    "test_accuracy_track = []"
   ]
  },
  {
   "cell_type": "code",
   "execution_count": 16,
   "metadata": {},
   "outputs": [
    {
     "name": "stdout",
     "output_type": "stream",
     "text": [
      "== 1 Epoch, Loss 0.059, Batch Accuracy  0.983, Test Accuracy : 0.978 ==\n",
      "== 2 Epoch, Loss 0.080, Batch Accuracy  0.972, Test Accuracy : 0.979 ==\n",
      "== 3 Epoch, Loss 0.063, Batch Accuracy  0.983, Test Accuracy : 0.979 ==\n",
      "== 4 Epoch, Loss 0.092, Batch Accuracy  0.973, Test Accuracy : 0.979 ==\n",
      "== 5 Epoch, Loss 0.063, Batch Accuracy  0.982, Test Accuracy : 0.980 ==\n"
     ]
    }
   ],
   "source": [
    "net.layers[0].trainable = False\n",
    "\n",
    "train_size = x_train.shape[0]\n",
    "batch_size = 1000\n",
    "iter_per_epoch = train_size/batch_size\n",
    "epochs = 5\n",
    "iter_step = int(iter_per_epoch)\n",
    "# iter_step = 10\n",
    "for epoch in range(epochs):\n",
    "    for i in range(iter_step):\n",
    "        batch_mask = np.random.choice(train_size, batch_size)\n",
    "        x_batch=x_train[batch_mask]\n",
    "        y_batch=y_train[batch_mask]\n",
    "        loss = net.fit(x_batch, y_batch, learning_rate=0.001)\n",
    "        if i%(np.max([iter_step/100,1]))==0:\n",
    "            print(\"== Loss {0:0.4f}, Process : {1:0.1f}% ==\".format(loss, i/iter_step*100), end=\"\\r\")\n",
    "    batch_accuracy = net.accuracy(x_batch, y_batch)\n",
    "    test_accuracy = net.accuracy(x_test, y_test)\n",
    "    batch_accuracy_track.append(batch_accuracy)\n",
    "    test_accuracy_track.append(test_accuracy)\n",
    "    print(\"== {0} Epoch, Loss {1:0.3f}, Batch Accuracy  {2:0.3f}, Test Accuracy : {3:0.3f} ==\".format(epoch+1, loss, batch_accuracy, test_accuracy))\n"
   ]
  },
  {
   "cell_type": "code",
   "execution_count": 17,
   "metadata": {},
   "outputs": [
    {
     "data": {
      "image/png": "[encoded data removed]",
      "text/plain": [
       "<matplotlib.figure.Figure at 0x7f3f918235c0>"
      ]
     },
     "metadata": {},
     "output_type": "display_data"
    }
   ],
   "source": [
    "b_track = np.array(batch_accuracy_track)\n",
    "t_track = np.array(test_accuracy_track)\n",
    "x = np.arange(b_track.size)\n",
    "plt.plot(x, b_track, label=\"batch\")\n",
    "plt.plot(x, t_track, label=\"test\")\n",
    "plt.ylim([0.8,1])\n",
    "plt.legend(loc=2)\n",
    "plt.show()"
   ]
  },
  {
   "cell_type": "code",
   "execution_count": 18,
   "metadata": {},
   "outputs": [
    {
     "data": {
      "image/png": "[encoded data removed]",
      "text/plain": [
       "<matplotlib.figure.Figure at 0x7f3f9184cda0>"
      ]
     },
     "metadata": {},
     "output_type": "display_data"
    }
   ],
   "source": [
    "filter_show(net.layers[0].W)"
   ]
  },
  {
   "cell_type": "code",
   "execution_count": null,
   "metadata": {},
   "outputs": [],
   "source": []
  }
 ],
 "metadata": {
  "kernelspec": {
   "display_name": "Python 3",
   "language": "python",
   "name": "python3"
  },
  "language_info": {
   "codemirror_mode": {
    "name": "ipython",
    "version": 3
   },
   "file_extension": ".py",
   "mimetype": "text/x-python",
   "name": "python",
   "nbconvert_exporter": "python",
   "pygments_lexer": "ipython3",
   "version": "3.6.4"
  }
 },
 "nbformat": 4,
 "nbformat_minor": 2
}
